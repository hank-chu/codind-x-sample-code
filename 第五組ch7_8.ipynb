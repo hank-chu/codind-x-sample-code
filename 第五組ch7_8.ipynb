{
  "nbformat": 4,
  "nbformat_minor": 0,
  "metadata": {
    "colab": {
      "name": "第五組ch7-8.ipynb",
      "provenance": [],
      "collapsed_sections": [],
      "include_colab_link": true
    },
    "kernelspec": {
      "name": "python3",
      "display_name": "Python 3"
    },
    "language_info": {
      "name": "python"
    }
  },
  "cells": [
    {
      "cell_type": "markdown",
      "metadata": {
        "id": "view-in-github",
        "colab_type": "text"
      },
      "source": [
        "<a href=\"https://colab.research.google.com/github/hank-chu/codind-x-sample-code/blob/main/%E7%AC%AC%E4%BA%94%E7%B5%84ch7_8.ipynb\" target=\"_parent\"><img src=\"https://colab.research.google.com/assets/colab-badge.svg\" alt=\"Open In Colab\"/></a>"
      ]
    },
    {
      "cell_type": "markdown",
      "source": [
        "# Chapter8:檔案處理"
      ],
      "metadata": {
        "id": "NWehQr5IOfON"
      }
    },
    {
      "cell_type": "markdown",
      "source": [
        "範例：檔案讀寫\n",
        "\n"
      ],
      "metadata": {
        "id": "KHJcsdLKQd1e"
      }
    },
    {
      "cell_type": "code",
      "source": [
        "f = open('data.txt', 'w')\n",
        "f.write('Hi, How are you?')\n",
        "f.write('I am fine.')\n",
        "f.close()"
      ],
      "metadata": {
        "id": "e8SSNvoKQjYU"
      },
      "execution_count": null,
      "outputs": []
    },
    {
      "cell_type": "markdown",
      "source": [
        "問題：在當前資料夾內，建立檔案data.txt，檔案共100000行，每行存放一個1～100之間的整數。\n",
        "\n"
      ],
      "metadata": {
        "id": "0u3PdoKhPzpZ"
      }
    },
    {
      "cell_type": "code",
      "execution_count": null,
      "metadata": {
        "id": "xMa2V0wAvTT2"
      },
      "outputs": [],
      "source": [
        "import random\n",
        "\n",
        "# Step1:打開’data.txt’檔案\n",
        "f = open('data.txt','w+')\n",
        "\n",
        "# Step2:一行一行寫入1～100之間的整數\n",
        "for i in range(100000):\n",
        "    f.write(str(random.randint(1,100)) + '\\n')\n",
        "\n",
        "f.seek(0)\n",
        "print(f.read())\n",
        "f.close()"
      ]
    },
    {
      "cell_type": "markdown",
      "source": [
        "問題：將先前建立之’data.txt’檔案內所有數值加總取平均值，輸出另一個’data_avg.txt’ 檔案，寫入每一行數值與平均值之差。"
      ],
      "metadata": {
        "id": "e8Sxj9jeQF8J"
      }
    },
    {
      "cell_type": "code",
      "source": [
        "# Step1:’data.txt’檔案內所有數值加總取平均值\n",
        "f = open('data.txt')\n",
        "sum = 0\n",
        "count = 0\n",
        "for line in f.readlines():\n",
        "    count += 1\n",
        "    sum += int(line)\n",
        "\n",
        "print(\"Average = %.d\" % (sum/count))\n",
        "\n",
        "# Step2:打開’data_avg.txt’，一行一行寫入數值與平均值之差\n",
        "f_avg = open('data_avg.txt', 'w+')\n",
        "f.seek(0)\n",
        "for line in f.readlines():\n",
        "    data = int(int(line)-(sum/count))\n",
        "    f_avg.write(str(data) + '\\n' )\n",
        "\n",
        "f.close()\n",
        "f_avg.close()"
      ],
      "metadata": {
        "id": "g5R3EvVTQGsD"
      },
      "execution_count": null,
      "outputs": []
    },
    {
      "cell_type": "markdown",
      "source": [
        "write 用法"
      ],
      "metadata": {
        "id": "PuFzKLbGH0is"
      }
    },
    {
      "cell_type": "code",
      "source": [
        "content = '''Hello world'''\n",
        "f = open('/content/sample_data/test.txt', \"w\" ) \n",
        "f.write(content)\n",
        "f.close()"
      ],
      "metadata": {
        "id": "iWSKe3PXH5oL"
      },
      "execution_count": 22,
      "outputs": []
    },
    {
      "cell_type": "markdown",
      "source": [
        "如果沒有close的話，內容將不會真正寫入檔案"
      ],
      "metadata": {
        "id": "QzppdR7VH8DO"
      }
    },
    {
      "cell_type": "code",
      "source": [
        "content = '''Hello world'''\n",
        "f = open('/content/sample_data/test.txt', \"w\" ) \n",
        "f.write(content)"
      ],
      "metadata": {
        "id": "4mCIW8O-H-UM"
      },
      "execution_count": null,
      "outputs": []
    },
    {
      "cell_type": "markdown",
      "source": [
        "read 用法: 指定長度"
      ],
      "metadata": {
        "id": "bpace5VyIAgP"
      }
    },
    {
      "cell_type": "code",
      "source": [
        "f = open(\"/content/sample_data/test.txt\", \"r\" ) \n",
        "print(f.read(5))\n",
        "f.close()"
      ],
      "metadata": {
        "id": "VpAfRafeICEx"
      },
      "execution_count": null,
      "outputs": []
    },
    {
      "cell_type": "markdown",
      "source": [
        "read 用法: 不指定長度，直接讀取全部"
      ],
      "metadata": {
        "id": "KHLWN7_nIp3A"
      }
    },
    {
      "cell_type": "code",
      "source": [
        "f = open(\"/content/sample_data/test.txt\", \"r\" ) \n",
        "print(f.read())\n",
        "f.close()"
      ],
      "metadata": {
        "id": "l3BYE-SpIr43"
      },
      "execution_count": null,
      "outputs": []
    },
    {
      "cell_type": "markdown",
      "source": [
        "seek(0) 範例"
      ],
      "metadata": {
        "id": "oT6cHPC9IuA0"
      }
    },
    {
      "cell_type": "code",
      "source": [
        "f = open(\"/content/sample_data/test.txt\", \"r\" ) \n",
        "print(f.read(5))\n",
        "print(f.read())\n",
        "f.close()"
      ],
      "metadata": {
        "id": "IC38U5EJIv82"
      },
      "execution_count": null,
      "outputs": []
    },
    {
      "cell_type": "code",
      "source": [
        "f = open(\"/content/sample_data/test.txt\", \"r\" ) \n",
        "print(f.read(5))\n",
        "f.seek(0)\n",
        "print(f.read())\n",
        "f.close()"
      ],
      "metadata": {
        "id": "XjDI8cPgIxzQ"
      },
      "execution_count": null,
      "outputs": []
    },
    {
      "cell_type": "markdown",
      "source": [
        "小測驗參考解答"
      ],
      "metadata": {
        "id": "SrLT4rnCIzy_"
      }
    },
    {
      "cell_type": "code",
      "source": [
        "f = open(\"/content/sample_data/test.txt\" , \"w+\")\n",
        "for i in range(1,11):\n",
        "    f.write(str(i*2-1) + \"\\n\") #建立新文件並寫入內容\n",
        "\n",
        "f.seek(0) #將指標移到文件最前端\n",
        "print(f.read(10)) #輸出文件前10個字元\n",
        "\n",
        "print(\"------------\")\n",
        "\n",
        "f.seek(0)\n",
        "print(f.read()) #輸出全部文件\n",
        "\n",
        "f.close()"
      ],
      "metadata": {
        "id": "2knrun7JI19C"
      },
      "execution_count": null,
      "outputs": []
    }
  ]
}